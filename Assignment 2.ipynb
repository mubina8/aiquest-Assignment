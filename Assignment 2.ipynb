{
 "cells": [
  {
   "cell_type": "markdown",
   "id": "2891e5d8",
   "metadata": {},
   "source": [
    "# 1. Write a program that swaps the values of two variables."
   ]
  },
  {
   "cell_type": "code",
   "execution_count": 2,
   "id": "7b3c50a9",
   "metadata": {},
   "outputs": [
    {
     "name": "stdout",
     "output_type": "stream",
     "text": [
      "20\n",
      "30\n",
      "Before swaping Two numbers 20 and 30\n",
      "After swaping Two numbers 30 and 20\n"
     ]
    }
   ],
   "source": [
    "a = int(input())\n",
    "b = int(input())\n",
    "print('Before swaping Two numbers {} and {}'.format(a,b))\n",
    "c = a\n",
    "a = b\n",
    "b = c\n",
    "print('After swaping Two numbers {} and {}'.format(a,b))"
   ]
  },
  {
   "cell_type": "markdown",
   "id": "6b488f16",
   "metadata": {},
   "source": [
    "# 2. Write a program that calculates the area of a rectangle given its length and width."
   ]
  },
  {
   "cell_type": "code",
   "execution_count": 5,
   "id": "f1ef095c",
   "metadata": {},
   "outputs": [
    {
     "name": "stdout",
     "output_type": "stream",
     "text": [
      "Enter the value of Length 12.1\n",
      "Enter the value of Width 6\n",
      "The Area of a rectangle is 72.6\n"
     ]
    }
   ],
   "source": [
    "length = float(input('Enter the value of Length '))\n",
    "width = float(input('Enter the value of Width '))\n",
    "area = length * width\n",
    "print('The Area of a rectangle is {}'.format(area))"
   ]
  },
  {
   "cell_type": "markdown",
   "id": "2687134c",
   "metadata": {},
   "source": [
    "# 3. Write a program that converts temperature from Fahrenheit to Celsius."
   ]
  },
  {
   "cell_type": "code",
   "execution_count": 7,
   "id": "39a18d12",
   "metadata": {},
   "outputs": [
    {
     "name": "stdout",
     "output_type": "stream",
     "text": [
      "Enter the temperature in Fahrenheit 50\n",
      "The temperature in Celsius is 10.0 degree celsius\n"
     ]
    }
   ],
   "source": [
    "F = float(input('Enter the temperature in Fahrenheit '))\n",
    "C = (F-32)*(5/9)\n",
    "print('The temperature in Celsius is {} degree celsius'.format(C))"
   ]
  },
  {
   "cell_type": "markdown",
   "id": "3546a6c9",
   "metadata": {},
   "source": [
    "# 4. Write a program that calculates the volume of a sphere given its radius."
   ]
  },
  {
   "cell_type": "code",
   "execution_count": 9,
   "id": "e25896cb",
   "metadata": {},
   "outputs": [
    {
     "name": "stdout",
     "output_type": "stream",
     "text": [
      "Enter the radius of sphere: 4\n",
      "The Volume of Sphere is 268.0832 \n"
     ]
    }
   ],
   "source": [
    "r = float(input('Enter the radius of sphere: '))\n",
    "v = (4/3)*3.1416*(pow(r,3))\n",
    "print('The Volume of Sphere is {} '.format(v))"
   ]
  },
  {
   "cell_type": "markdown",
   "id": "a6613dc7",
   "metadata": {},
   "source": [
    "# 5. Write a program that finds the average of three numbers."
   ]
  },
  {
   "cell_type": "code",
   "execution_count": 3,
   "id": "3b803e94",
   "metadata": {},
   "outputs": [
    {
     "name": "stdout",
     "output_type": "stream",
     "text": [
      "100\n",
      "100\n",
      "400\n",
      "Average of Three numbers is 200.0 \n"
     ]
    }
   ],
   "source": [
    "a = int(input())\n",
    "b = int(input())\n",
    "c = int(input())\n",
    "s = (a + b + c)\n",
    "avg = s/3\n",
    "print('Average of Three numbers is {} '.format(avg))"
   ]
  },
  {
   "cell_type": "markdown",
   "id": "b3d2a8b2",
   "metadata": {},
   "source": [
    "# 6. Write a program that determines if a number is even or odd."
   ]
  },
  {
   "cell_type": "code",
   "execution_count": 4,
   "id": "5575da8a",
   "metadata": {},
   "outputs": [
    {
     "name": "stdout",
     "output_type": "stream",
     "text": [
      "Enter a Number: 13\n",
      "The Number is Odd\n"
     ]
    }
   ],
   "source": [
    "n = input('Enter a Number: ')\n",
    "n = int(n)\n",
    "if n%2==0:\n",
    "    print('The number is Even')\n",
    "else:\n",
    "    print('The Number is Odd')"
   ]
  },
  {
   "cell_type": "markdown",
   "id": "32a57401",
   "metadata": {},
   "source": [
    "# 7. Write a program that finds the maximum of three numbers."
   ]
  },
  {
   "cell_type": "code",
   "execution_count": 8,
   "id": "9bbbb847",
   "metadata": {},
   "outputs": [
    {
     "name": "stdout",
     "output_type": "stream",
     "text": [
      "13\n",
      "12\n",
      "19\n",
      "19 is the maximum\n"
     ]
    }
   ],
   "source": [
    "a = int(input())\n",
    "b = int(input())\n",
    "c = int(input())\n",
    "if a>b and a>c:\n",
    "    print('{} is the maximum'.format(a))\n",
    "elif b>a and b>c:\n",
    "    print('{} is the maximum'.format(b))\n",
    "else:\n",
    "    print('{} is the maximum'.format(c))"
   ]
  },
  {
   "cell_type": "markdown",
   "id": "793c1e87",
   "metadata": {},
   "source": [
    "# 8. Write a program that determines if a year is a leap year or not."
   ]
  },
  {
   "cell_type": "code",
   "execution_count": 14,
   "id": "7bd89e84",
   "metadata": {},
   "outputs": [
    {
     "name": "stdout",
     "output_type": "stream",
     "text": [
      "Enter a year to check leap year or not: 1900\n",
      "1900 is not a leap year\n"
     ]
    }
   ],
   "source": [
    "year = input('Enter a year to check leap year or not: ')\n",
    "y = int(year)\n",
    "if y%4==0 and y%100!=0:\n",
    "    print('{} is a leap year'.format(y))\n",
    "elif y%100==0 and y%400==0:\n",
    "    print('{} is a leap year'.format(y))\n",
    "else:\n",
    "    print('{} is not a leap year'.format(y))"
   ]
  },
  {
   "cell_type": "markdown",
   "id": "aa349dc9",
   "metadata": {},
   "source": [
    "# 9. Write a program that determines if a number is positive, negative, or zero."
   ]
  },
  {
   "cell_type": "code",
   "execution_count": 17,
   "id": "777e74ca",
   "metadata": {},
   "outputs": [
    {
     "name": "stdout",
     "output_type": "stream",
     "text": [
      "Enter a Number: -100\n",
      "The Number is Negative\n"
     ]
    }
   ],
   "source": [
    "n = int(input('Enter a Number: '))\n",
    "if n>0:\n",
    "    print('The Number is Positive')\n",
    "elif n<0:\n",
    "    print('The Number is Negative')\n",
    "else:\n",
    "    print('The Number is Zero')"
   ]
  },
  {
   "cell_type": "markdown",
   "id": "e2f408cd",
   "metadata": {},
   "source": [
    "# 10. Write a program that calculates the grade based on a given percentage."
   ]
  },
  {
   "cell_type": "code",
   "execution_count": 22,
   "id": "86de78a8",
   "metadata": {},
   "outputs": [
    {
     "name": "stdout",
     "output_type": "stream",
     "text": [
      "Enter a percentage: 0\n",
      "Grade F\n"
     ]
    }
   ],
   "source": [
    "per = int(input('Enter a percentage: '))\n",
    "if per>=90 and per<=100:\n",
    "    print('Grade A')\n",
    "elif per>=0 and per<=59:\n",
    "    print('Grade F')\n",
    "elif per>=60 and per<=69:\n",
    "    print('Grade D')\n",
    "elif per>=70 and per<=79:\n",
    "    print('Grade c')\n",
    "elif per>=80 and per<=89:\n",
    "    print('Grade B')\n",
    "else:\n",
    "    print('Wrong Entry')"
   ]
  },
  {
   "cell_type": "markdown",
   "id": "e5a8d34c",
   "metadata": {},
   "source": [
    "# 11. Write a program that prints the first `n` natural numbers."
   ]
  },
  {
   "cell_type": "code",
   "execution_count": 26,
   "id": "2173e827",
   "metadata": {},
   "outputs": [
    {
     "name": "stdout",
     "output_type": "stream",
     "text": [
      "Enter number: 5\n",
      "1\n",
      "2\n",
      "3\n",
      "4\n",
      "5\n"
     ]
    }
   ],
   "source": [
    "num = int(input('Enter number: '))\n",
    "for i in range(1,num+1):\n",
    "    print(i)\n",
    "    \n",
    "    "
   ]
  },
  {
   "cell_type": "markdown",
   "id": "cd36afe1",
   "metadata": {},
   "source": [
    "# Write a program that calculates the factorial of a number."
   ]
  },
  {
   "cell_type": "code",
   "execution_count": 29,
   "id": "2f4c18f2",
   "metadata": {},
   "outputs": [
    {
     "name": "stdout",
     "output_type": "stream",
     "text": [
      "Enter number: 5\n",
      "120\n"
     ]
    }
   ],
   "source": [
    "num = int(input('Enter number: '))\n",
    "f=1\n",
    "for i in range(num,1,-1):\n",
    "    f = f*i\n",
    "print(f)\n",
    "    \n",
    "    "
   ]
  },
  {
   "cell_type": "markdown",
   "id": "9bcdd8ac",
   "metadata": {},
   "source": [
    "# 13. Write a program that generates a Fibonacci sequence of length `n`."
   ]
  },
  {
   "cell_type": "code",
   "execution_count": 39,
   "id": "0ba99f7b",
   "metadata": {},
   "outputs": [
    {
     "name": "stdout",
     "output_type": "stream",
     "text": [
      "Enter number: 5\n",
      "0\n",
      "1\n",
      "1\n",
      "2\n",
      "3\n"
     ]
    }
   ],
   "source": [
    "num = int(input('Enter number: '))\n",
    "if num>=2:\n",
    "    s1=0\n",
    "    s2=1\n",
    "    print('{}\\n{}'.format(s1,s2))\n",
    "    for i in range(3,num+1):\n",
    "        s = s1 + s2\n",
    "        s1 = s2\n",
    "        s2 = s\n",
    "        print(s)"
   ]
  },
  {
   "cell_type": "markdown",
   "id": "1b2afa7d",
   "metadata": {},
   "source": [
    "# 14. Write a program that checks if a given number is prime or not."
   ]
  },
  {
   "cell_type": "code",
   "execution_count": 7,
   "id": "b479c704",
   "metadata": {},
   "outputs": [
    {
     "name": "stdout",
     "output_type": "stream",
     "text": [
      "Enter a number: 2\n",
      "The Number is Prime\n"
     ]
    }
   ],
   "source": [
    "num = int(input(\"Enter a number: \"))\n",
    "if num < 2:\n",
    "    print('The Number is not Prime')\n",
    "if num == 2:\n",
    "    print('The Number is Prime')\n",
    "if num > 2:\n",
    "    for i in range(2,num):\n",
    "        if num % i == 0:\n",
    "            print('The Number is not Prime')\n",
    "        else:\n",
    "            print('The Number is Prime')         "
   ]
  },
  {
   "cell_type": "markdown",
   "id": "5df21577",
   "metadata": {},
   "source": [
    "# 15. Write a program that prints the multiplication table of a given number."
   ]
  },
  {
   "cell_type": "code",
   "execution_count": 8,
   "id": "ecf9537e",
   "metadata": {},
   "outputs": [
    {
     "name": "stdout",
     "output_type": "stream",
     "text": [
      "Enter a number: 3\n",
      "3 X 1 = 3 \n",
      "\n",
      "3 X 2 = 6 \n",
      "\n",
      "3 X 3 = 9 \n",
      "\n",
      "3 X 4 = 12 \n",
      "\n",
      "3 X 5 = 15 \n",
      "\n",
      "3 X 6 = 18 \n",
      "\n",
      "3 X 7 = 21 \n",
      "\n",
      "3 X 8 = 24 \n",
      "\n",
      "3 X 9 = 27 \n",
      "\n",
      "3 X 10 = 30 \n",
      "\n"
     ]
    }
   ],
   "source": [
    "num = num = int(input(\"Enter a number: \"))\n",
    "for i in range(1,11):\n",
    "    print('{} X {} = {} \\n'.format(num,i,num*i))"
   ]
  },
  {
   "cell_type": "markdown",
   "id": "e3c3a027",
   "metadata": {},
   "source": [
    "# 16. Write a program that finds the sum of all even numbers between 1 and `n`."
   ]
  },
  {
   "cell_type": "code",
   "execution_count": 1,
   "id": "f7496429",
   "metadata": {},
   "outputs": [
    {
     "name": "stdout",
     "output_type": "stream",
     "text": [
      "Enter a number: 5\n",
      "The sum of all even numbers between 1 and 5 is 6\n"
     ]
    }
   ],
   "source": [
    "num = num = int(input(\"Enter a number: \"))\n",
    "s = 0\n",
    "i = 0\n",
    "while(i<=num):\n",
    "    if i%2 == 0:\n",
    "        s = s + i\n",
    "    i = i + 1\n",
    "print('The sum of all even numbers between 1 and {} is {}'.format(num,s))       "
   ]
  },
  {
   "cell_type": "markdown",
   "id": "6042f50a",
   "metadata": {},
   "source": [
    "# 17. Write a program that reverses a given number."
   ]
  },
  {
   "cell_type": "code",
   "execution_count": 8,
   "id": "ee3648fa",
   "metadata": {},
   "outputs": [
    {
     "name": "stdout",
     "output_type": "stream",
     "text": [
      "Enter a number: 234\n",
      "The reverse Number is: 432\n"
     ]
    }
   ],
   "source": [
    "num = int(input(\"Enter a number: \"))\n",
    "remainder = 0\n",
    "rev_num = 0\n",
    "while(num != 0):\n",
    "    remainder = num % 10\n",
    "    rev_num = rev_num * 10 + remainder\n",
    "    num = num // 10\n",
    "print('The reverse Number is: {}'.format(rev_num))    "
   ]
  },
  {
   "cell_type": "markdown",
   "id": "0df19750",
   "metadata": {},
   "source": [
    "# 18. Write a program that checks if a given string is a palindrome."
   ]
  },
  {
   "cell_type": "code",
   "execution_count": 26,
   "id": "f634b0ef",
   "metadata": {},
   "outputs": [
    {
     "name": "stdout",
     "output_type": "stream",
     "text": [
      "Enter a String: ABA\n",
      "Palindrome\n"
     ]
    }
   ],
   "source": [
    "s = input(\"Enter a String: \")\n",
    "s = s.lower()\n",
    "rev = ''\n",
    "i = len(s)-1\n",
    "while(i >= 0):\n",
    "    rev = rev + s[i]\n",
    "    i = i - 1\n",
    "if s == rev:\n",
    "    print('Palindrome')\n",
    "else:\n",
    "    print('Not Palindrome')"
   ]
  },
  {
   "cell_type": "markdown",
   "id": "ff162ba5",
   "metadata": {},
   "source": [
    "# 19. Write a program that generates a random number and allows the user to guess it."
   ]
  },
  {
   "cell_type": "code",
   "execution_count": 1,
   "id": "d35b01fc",
   "metadata": {},
   "outputs": [
    {
     "name": "stdout",
     "output_type": "stream",
     "text": [
      "Try to guess the Number: 1\n",
      "Too Low\n",
      "Try to guess the Number: 3\n",
      "Too High\n",
      "Try to guess the Number: 2\n",
      "Right Guess!!\n"
     ]
    }
   ],
   "source": [
    "import random\n",
    "random_num = random.randint(1,10)\n",
    "i = 3\n",
    "while(i>0):\n",
    "    num = int(input('Try to guess the Number: '))\n",
    "    i += 1\n",
    "    if num == random_num:\n",
    "        print('Right Guess!!')\n",
    "        break\n",
    "    elif num > random_num:\n",
    "        print('Too High')\n",
    "    else:\n",
    "        print('Too Low')"
   ]
  },
  {
   "cell_type": "markdown",
   "id": "dd2705a0",
   "metadata": {},
   "source": [
    "# 20. Write a program that finds the greatest common divisor (GCD) of two numbers."
   ]
  },
  {
   "cell_type": "code",
   "execution_count": 9,
   "id": "03b68b6b",
   "metadata": {},
   "outputs": [
    {
     "name": "stdout",
     "output_type": "stream",
     "text": [
      "Enter a first number: 6\n",
      "Enter a second number: 12\n",
      "Greatest Common Divisor: 6\n"
     ]
    }
   ],
   "source": [
    "num1 = int(input(\"Enter a first number: \"))\n",
    "num2 = int(input(\"Enter a second number: \"))\n",
    "if num1 > num2:\n",
    "    n = num2\n",
    "else:\n",
    "    n = num1\n",
    "i = 1\n",
    "gcd = 0\n",
    "while(i <= n):\n",
    "    if num1 % i == 0 and num2 % i == 0:\n",
    "        gcd = i      \n",
    "    i = i + 1\n",
    "print('Greatest Common Divisor: {}'.format(gcd))     "
   ]
  }
 ],
 "metadata": {
  "kernelspec": {
   "display_name": "Python 3 (ipykernel)",
   "language": "python",
   "name": "python3"
  },
  "language_info": {
   "codemirror_mode": {
    "name": "ipython",
    "version": 3
   },
   "file_extension": ".py",
   "mimetype": "text/x-python",
   "name": "python",
   "nbconvert_exporter": "python",
   "pygments_lexer": "ipython3",
   "version": "3.9.5"
  }
 },
 "nbformat": 4,
 "nbformat_minor": 5
}
